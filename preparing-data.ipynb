{
 "cells": [
  {
   "cell_type": "markdown",
   "metadata": {},
   "source": [
    "# Preparing data\n",
    "\n",
    "After collecting data, this notebook shows how to prepare data for using in a machine learning model to be trained."
   ]
  },
  {
   "cell_type": "code",
   "execution_count": 5,
   "metadata": {},
   "outputs": [],
   "source": [
    "import pickle\n",
    "import pandas as pd"
   ]
  },
  {
   "cell_type": "markdown",
   "metadata": {},
   "source": [
    "We saw in [collecting_data.ipynb]() that raw data is a json, or, in other words, a key: value dictionary of the web. From it, the following variables are picked to be collected."
   ]
  },
  {
   "cell_type": "code",
   "execution_count": 31,
   "metadata": {},
   "outputs": [],
   "source": [
    "chosen_user_vars = ['screen_name']\n",
    "chosen_vars = ['text', 'favorite_count', 'lang', 'created_at']\n",
    "# retweet_count crashes unfortunately :/"
   ]
  },
  {
   "cell_type": "code",
   "execution_count": 32,
   "metadata": {},
   "outputs": [],
   "source": [
    "data = []\n",
    "for i in range(5):\n",
    "    with open('data/favs_%d.pkl' % i, 'rb') as handle:\n",
    "        for tweet in pickle.load(handle):\n",
    "            row = []\n",
    "            row = [tweet[var] for var in chosen_vars]\n",
    "            row.insert(0, tweet['user']['screen_name'])\n",
    "            data.append(row)"
   ]
  },
  {
   "cell_type": "markdown",
   "metadata": {},
   "source": [
    "Now that we have picked the data we wanted from the json's, it is time to wrap it into a pandas dataframe for some magic."
   ]
  },
  {
   "cell_type": "code",
   "execution_count": 66,
   "metadata": {},
   "outputs": [
    {
     "data": {
      "text/html": [
       "<div>\n",
       "<style scoped>\n",
       "    .dataframe tbody tr th:only-of-type {\n",
       "        vertical-align: middle;\n",
       "    }\n",
       "\n",
       "    .dataframe tbody tr th {\n",
       "        vertical-align: top;\n",
       "    }\n",
       "\n",
       "    .dataframe thead th {\n",
       "        text-align: right;\n",
       "    }\n",
       "</style>\n",
       "<table border=\"1\" class=\"dataframe\">\n",
       "  <thead>\n",
       "    <tr style=\"text-align: right;\">\n",
       "      <th></th>\n",
       "      <th>screen_name</th>\n",
       "      <th>text</th>\n",
       "      <th>favorite_count</th>\n",
       "      <th>lang</th>\n",
       "      <th>created_at</th>\n",
       "    </tr>\n",
       "  </thead>\n",
       "  <tbody>\n",
       "    <tr>\n",
       "      <th>0</th>\n",
       "      <td>ThePracticalDev</td>\n",
       "      <td>Steps to better code\\n{ author: @isaacandsuch ...</td>\n",
       "      <td>62</td>\n",
       "      <td>en</td>\n",
       "      <td>Sat Sep 30 08:02:01 +0000 2017</td>\n",
       "    </tr>\n",
       "    <tr>\n",
       "      <th>1</th>\n",
       "      <td>d_vf</td>\n",
       "      <td>I just published “Understanding your energy bi...</td>\n",
       "      <td>1</td>\n",
       "      <td>en</td>\n",
       "      <td>Fri Sep 29 09:14:42 +0000 2017</td>\n",
       "    </tr>\n",
       "    <tr>\n",
       "      <th>2</th>\n",
       "      <td>sehurlburt</td>\n",
       "      <td>Yes I am making sure adequate cat photo benchm...</td>\n",
       "      <td>70</td>\n",
       "      <td>en</td>\n",
       "      <td>Fri Sep 29 04:26:45 +0000 2017</td>\n",
       "    </tr>\n",
       "    <tr>\n",
       "      <th>3</th>\n",
       "      <td>ThePracticalDev</td>\n",
       "      <td>Coding = thinking in several dimensions\\n{ aut...</td>\n",
       "      <td>61</td>\n",
       "      <td>en</td>\n",
       "      <td>Thu Sep 28 16:28:28 +0000 2017</td>\n",
       "    </tr>\n",
       "    <tr>\n",
       "      <th>4</th>\n",
       "      <td>azool_97</td>\n",
       "      <td>@pewdiepie Kimi no na wa used heavily japanese...</td>\n",
       "      <td>142</td>\n",
       "      <td>en</td>\n",
       "      <td>Thu Sep 28 08:21:39 +0000 2017</td>\n",
       "    </tr>\n",
       "  </tbody>\n",
       "</table>\n",
       "</div>"
      ],
      "text/plain": [
       "       screen_name                                               text  \\\n",
       "0  ThePracticalDev  Steps to better code\\n{ author: @isaacandsuch ...   \n",
       "1             d_vf  I just published “Understanding your energy bi...   \n",
       "2       sehurlburt  Yes I am making sure adequate cat photo benchm...   \n",
       "3  ThePracticalDev  Coding = thinking in several dimensions\\n{ aut...   \n",
       "4         azool_97  @pewdiepie Kimi no na wa used heavily japanese...   \n",
       "\n",
       "   favorite_count lang                      created_at  \n",
       "0              62   en  Sat Sep 30 08:02:01 +0000 2017  \n",
       "1               1   en  Fri Sep 29 09:14:42 +0000 2017  \n",
       "2              70   en  Fri Sep 29 04:26:45 +0000 2017  \n",
       "3              61   en  Thu Sep 28 16:28:28 +0000 2017  \n",
       "4             142   en  Thu Sep 28 08:21:39 +0000 2017  "
      ]
     },
     "execution_count": 66,
     "metadata": {},
     "output_type": "execute_result"
    }
   ],
   "source": [
    "variables = chosen_user_vars + chosen_vars\n",
    "df = pd.DataFrame(data, columns=variables)\n",
    "df.head()"
   ]
  },
  {
   "cell_type": "markdown",
   "metadata": {},
   "source": [
    "## Indexing by date-time\n",
    "\n",
    "It could be quite interesting to turn this to a time series data! The column `created_at` actually refers to when I liked a tweet. Let's treat that variable and let it index our data."
   ]
  },
  {
   "cell_type": "code",
   "execution_count": 67,
   "metadata": {},
   "outputs": [
    {
     "data": {
      "text/html": [
       "<div>\n",
       "<style scoped>\n",
       "    .dataframe tbody tr th:only-of-type {\n",
       "        vertical-align: middle;\n",
       "    }\n",
       "\n",
       "    .dataframe tbody tr th {\n",
       "        vertical-align: top;\n",
       "    }\n",
       "\n",
       "    .dataframe thead th {\n",
       "        text-align: right;\n",
       "    }\n",
       "</style>\n",
       "<table border=\"1\" class=\"dataframe\">\n",
       "  <thead>\n",
       "    <tr style=\"text-align: right;\">\n",
       "      <th></th>\n",
       "      <th>screen_name</th>\n",
       "      <th>text</th>\n",
       "      <th>favorite_count</th>\n",
       "      <th>lang</th>\n",
       "    </tr>\n",
       "    <tr>\n",
       "      <th>date_time</th>\n",
       "      <th></th>\n",
       "      <th></th>\n",
       "      <th></th>\n",
       "      <th></th>\n",
       "    </tr>\n",
       "  </thead>\n",
       "  <tbody>\n",
       "    <tr>\n",
       "      <th>2017-09-30 08:02:01</th>\n",
       "      <td>ThePracticalDev</td>\n",
       "      <td>Steps to better code\\n{ author: @isaacandsuch ...</td>\n",
       "      <td>62</td>\n",
       "      <td>en</td>\n",
       "    </tr>\n",
       "    <tr>\n",
       "      <th>2017-09-29 09:14:42</th>\n",
       "      <td>d_vf</td>\n",
       "      <td>I just published “Understanding your energy bi...</td>\n",
       "      <td>1</td>\n",
       "      <td>en</td>\n",
       "    </tr>\n",
       "    <tr>\n",
       "      <th>2017-09-29 04:26:45</th>\n",
       "      <td>sehurlburt</td>\n",
       "      <td>Yes I am making sure adequate cat photo benchm...</td>\n",
       "      <td>70</td>\n",
       "      <td>en</td>\n",
       "    </tr>\n",
       "    <tr>\n",
       "      <th>2017-09-28 16:28:28</th>\n",
       "      <td>ThePracticalDev</td>\n",
       "      <td>Coding = thinking in several dimensions\\n{ aut...</td>\n",
       "      <td>61</td>\n",
       "      <td>en</td>\n",
       "    </tr>\n",
       "    <tr>\n",
       "      <th>2017-09-28 08:21:39</th>\n",
       "      <td>azool_97</td>\n",
       "      <td>@pewdiepie Kimi no na wa used heavily japanese...</td>\n",
       "      <td>142</td>\n",
       "      <td>en</td>\n",
       "    </tr>\n",
       "  </tbody>\n",
       "</table>\n",
       "</div>"
      ],
      "text/plain": [
       "                         screen_name  \\\n",
       "date_time                              \n",
       "2017-09-30 08:02:01  ThePracticalDev   \n",
       "2017-09-29 09:14:42             d_vf   \n",
       "2017-09-29 04:26:45       sehurlburt   \n",
       "2017-09-28 16:28:28  ThePracticalDev   \n",
       "2017-09-28 08:21:39         azool_97   \n",
       "\n",
       "                                                                  text  \\\n",
       "date_time                                                                \n",
       "2017-09-30 08:02:01  Steps to better code\\n{ author: @isaacandsuch ...   \n",
       "2017-09-29 09:14:42  I just published “Understanding your energy bi...   \n",
       "2017-09-29 04:26:45  Yes I am making sure adequate cat photo benchm...   \n",
       "2017-09-28 16:28:28  Coding = thinking in several dimensions\\n{ aut...   \n",
       "2017-09-28 08:21:39  @pewdiepie Kimi no na wa used heavily japanese...   \n",
       "\n",
       "                     favorite_count lang  \n",
       "date_time                                 \n",
       "2017-09-30 08:02:01              62   en  \n",
       "2017-09-29 09:14:42               1   en  \n",
       "2017-09-29 04:26:45              70   en  \n",
       "2017-09-28 16:28:28              61   en  \n",
       "2017-09-28 08:21:39             142   en  "
      ]
     },
     "execution_count": 67,
     "metadata": {},
     "output_type": "execute_result"
    }
   ],
   "source": [
    "datetime_index = pd.to_datetime(df['created_at']).copy() # copy, because reference is deleted next\n",
    "df = df.set_index(datetime_index).drop('created_at', axis=1) # set index and drop redundant variable\n",
    "df.index.names = ['date_time'] # rename index\n",
    "df.head()"
   ]
  },
  {
   "cell_type": "code",
   "execution_count": 69,
   "metadata": {},
   "outputs": [
    {
     "data": {
      "text/html": [
       "<div>\n",
       "<style scoped>\n",
       "    .dataframe tbody tr th:only-of-type {\n",
       "        vertical-align: middle;\n",
       "    }\n",
       "\n",
       "    .dataframe tbody tr th {\n",
       "        vertical-align: top;\n",
       "    }\n",
       "\n",
       "    .dataframe thead th {\n",
       "        text-align: right;\n",
       "    }\n",
       "</style>\n",
       "<table border=\"1\" class=\"dataframe\">\n",
       "  <thead>\n",
       "    <tr style=\"text-align: right;\">\n",
       "      <th></th>\n",
       "      <th>favorite_count</th>\n",
       "    </tr>\n",
       "  </thead>\n",
       "  <tbody>\n",
       "    <tr>\n",
       "      <th>count</th>\n",
       "      <td>844.000000</td>\n",
       "    </tr>\n",
       "    <tr>\n",
       "      <th>mean</th>\n",
       "      <td>5546.742891</td>\n",
       "    </tr>\n",
       "    <tr>\n",
       "      <th>std</th>\n",
       "      <td>37044.754889</td>\n",
       "    </tr>\n",
       "    <tr>\n",
       "      <th>min</th>\n",
       "      <td>1.000000</td>\n",
       "    </tr>\n",
       "    <tr>\n",
       "      <th>25%</th>\n",
       "      <td>9.000000</td>\n",
       "    </tr>\n",
       "    <tr>\n",
       "      <th>50%</th>\n",
       "      <td>49.500000</td>\n",
       "    </tr>\n",
       "    <tr>\n",
       "      <th>75%</th>\n",
       "      <td>357.250000</td>\n",
       "    </tr>\n",
       "    <tr>\n",
       "      <th>max</th>\n",
       "      <td>742777.000000</td>\n",
       "    </tr>\n",
       "  </tbody>\n",
       "</table>\n",
       "</div>"
      ],
      "text/plain": [
       "       favorite_count\n",
       "count      844.000000\n",
       "mean      5546.742891\n",
       "std      37044.754889\n",
       "min          1.000000\n",
       "25%          9.000000\n",
       "50%         49.500000\n",
       "75%        357.250000\n",
       "max     742777.000000"
      ]
     },
     "execution_count": 69,
     "metadata": {},
     "output_type": "execute_result"
    }
   ],
   "source": [
    "df.describe() # will describe the only numerical variable present in the dataset"
   ]
  },
  {
   "cell_type": "code",
   "execution_count": 72,
   "metadata": {},
   "outputs": [
    {
     "data": {
      "text/plain": [
       "<matplotlib.axes._subplots.AxesSubplot at 0x7f04cbc1ad68>"
      ]
     },
     "execution_count": 72,
     "metadata": {},
     "output_type": "execute_result"
    },
    {
     "data": {
      "image/png": "[encoded data removed]",
      "text/plain": [
       "<matplotlib.figure.Figure at 0x7f04cbba8780>"
      ]
     },
     "metadata": {},
     "output_type": "display_data"
    }
   ],
   "source": [
    "df.plot()"
   ]
  },
  {
   "cell_type": "markdown",
   "metadata": {},
   "source": [
    "So, over time, I've been increasingly liking tweets that many other people also like."
   ]
  },
  {
   "cell_type": "markdown",
   "metadata": {},
   "source": [
    "## A note on languages and locales"
   ]
  },
  {
   "cell_type": "code",
   "execution_count": 118,
   "metadata": {},
   "outputs": [
    {
     "name": "stdout",
     "output_type": "stream",
     "text": [
      "en     764\n",
      "pt      31\n",
      "und     24\n",
      "es      14\n",
      "ja       6\n",
      "fr       2\n",
      "tl       2\n",
      "ro       1\n",
      "Name: lang, dtype: int64\n"
     ]
    },
    {
     "data": {
      "text/plain": [
       "<matplotlib.axes._subplots.AxesSubplot at 0x7f047ad0bba8>"
      ]
     },
     "execution_count": 118,
     "metadata": {},
     "output_type": "execute_result"
    },
    {
     "data": {
      "image/png": "[encoded data removed]",
      "text/plain": [
       "<matplotlib.figure.Figure at 0x7f047aca80f0>"
      ]
     },
     "metadata": {},
     "output_type": "display_data"
    }
   ],
   "source": [
    "print(df['lang'].value_counts())\n",
    "df['lang'].value_counts().plot(kind='bar')"
   ]
  },
  {
   "cell_type": "markdown",
   "metadata": {},
   "source": [
    "Apparently, I liked tweets from multiple languages! This is a surprise for me because I thought I'd have only `pt` and `en`. I suppose I enjoy artwork from japan, hence the presence of `ja`. These japanese tweets may be an issue later on given that they should be written in japanese characters. 私は今何をするのですか？ I could in theory delete all the tweets which are not in `en`... Like, how do I do a bag-of-words analysis? I guess I could learn what japanese words I am most attracted to without even knowing it..."
   ]
  },
  {
   "cell_type": "code",
   "execution_count": 122,
   "metadata": {},
   "outputs": [
    {
     "name": "stdout",
     "output_type": "stream",
     "text": [
      "# tweets from other langs: 80\n",
      "fraction of tweets from other langs: 0.09\n"
     ]
    }
   ],
   "source": [
    "other_langs = df['lang'].value_counts()[1:].sum()\n",
    "percentage = round(other_langs / float(df.shape[0]), 2)\n",
    "print('# tweets from other langs:', other_langs)\n",
    "print('fraction of tweets from other langs:', percentage)"
   ]
  },
  {
   "cell_type": "markdown",
   "metadata": {},
   "source": [
    "This means, that if I were to exclude all other langs, I'd be keeping 91% of the data. I do think, however, that this measure is not exact, as `lang` may be a param that defaults to the users device locale, and may not represent the languages they tweet in. We can take a look at the text of these `ja`panese tweets."
   ]
  },
  {
   "cell_type": "code",
   "execution_count": 121,
   "metadata": {},
   "outputs": [
    {
     "data": {
      "text/plain": [
       "date_time\n",
       "2017-08-18 14:20:56                       日が沈むまで https://t.co/MNVFE5G9ly\n",
       "2017-01-01 22:13:34               後ろに飛んで消えて欲しかった https://t.co/19gzFGPf4A\n",
       "2016-12-27 15:38:36        和装ピュラさん！\\n「御免」\\n#RWBY https://t.co/lpL8S6Pmga\n",
       "2016-11-05 15:05:49    ジョーンがピュラの残したビデオで練習しているその頃、ピュラは… https://t.co/T...\n",
       "2016-11-05 05:10:15    そろそろ忙しいのも落ち着いてきたのでぼちぼちrwby併せ計画していきたい😆✨呼ばれたら即いく...\n",
       "2016-10-28 05:14:15    @mojojoj27827860 猫を被る(Wear a Cat)＝shed crocodi...\n",
       "Name: text, dtype: object"
      ]
     },
     "execution_count": 121,
     "metadata": {},
     "output_type": "execute_result"
    }
   ],
   "source": [
    "japanese_tweets = df[df['lang'] == 'ja']['text']\n",
    "japanese_tweets"
   ]
  },
  {
   "cell_type": "markdown",
   "metadata": {},
   "source": [
    "And the very last tweet from (I suppose) a japanese user shows some english words. If this presents an issue, I will some time later down the pipeline (see what I did here) restrict the dataset to `en`, at the cost of excluding tweets that may represent my interests. Anyways, I do consider that `en` tweets contain enough data about my nerdy / professional interests... So, yes, I am sacrificing the other tweets."
   ]
  },
  {
   "cell_type": "code",
   "execution_count": 127,
   "metadata": {},
   "outputs": [
    {
     "data": {
      "text/html": [
       "<div>\n",
       "<style scoped>\n",
       "    .dataframe tbody tr th:only-of-type {\n",
       "        vertical-align: middle;\n",
       "    }\n",
       "\n",
       "    .dataframe tbody tr th {\n",
       "        vertical-align: top;\n",
       "    }\n",
       "\n",
       "    .dataframe thead th {\n",
       "        text-align: right;\n",
       "    }\n",
       "</style>\n",
       "<table border=\"1\" class=\"dataframe\">\n",
       "  <thead>\n",
       "    <tr style=\"text-align: right;\">\n",
       "      <th></th>\n",
       "      <th>screen_name</th>\n",
       "      <th>text</th>\n",
       "      <th>favorite_count</th>\n",
       "    </tr>\n",
       "    <tr>\n",
       "      <th>date_time</th>\n",
       "      <th></th>\n",
       "      <th></th>\n",
       "      <th></th>\n",
       "    </tr>\n",
       "  </thead>\n",
       "  <tbody>\n",
       "    <tr>\n",
       "      <th>2017-09-30 08:02:01</th>\n",
       "      <td>ThePracticalDev</td>\n",
       "      <td>[steps, to, better, code, author, @isaacandsuch]</td>\n",
       "      <td>62</td>\n",
       "    </tr>\n",
       "    <tr>\n",
       "      <th>2017-09-29 09:14:42</th>\n",
       "      <td>d_vf</td>\n",
       "      <td>[i, just, published, understanding, your, ener...</td>\n",
       "      <td>1</td>\n",
       "    </tr>\n",
       "    <tr>\n",
       "      <th>2017-09-29 04:26:45</th>\n",
       "      <td>sehurlburt</td>\n",
       "      <td>[yes, i, am, making, sure, adequate, cat, phot...</td>\n",
       "      <td>70</td>\n",
       "    </tr>\n",
       "    <tr>\n",
       "      <th>2017-09-28 16:28:28</th>\n",
       "      <td>ThePracticalDev</td>\n",
       "      <td>[coding, thinking, in, several, dimensions, au...</td>\n",
       "      <td>61</td>\n",
       "    </tr>\n",
       "    <tr>\n",
       "      <th>2017-09-28 08:21:39</th>\n",
       "      <td>azool_97</td>\n",
       "      <td>[@pewdiepie, kimi, na, wa, used, heavily, japa...</td>\n",
       "      <td>142</td>\n",
       "    </tr>\n",
       "  </tbody>\n",
       "</table>\n",
       "</div>"
      ],
      "text/plain": [
       "                         screen_name  \\\n",
       "date_time                              \n",
       "2017-09-30 08:02:01  ThePracticalDev   \n",
       "2017-09-29 09:14:42             d_vf   \n",
       "2017-09-29 04:26:45       sehurlburt   \n",
       "2017-09-28 16:28:28  ThePracticalDev   \n",
       "2017-09-28 08:21:39         azool_97   \n",
       "\n",
       "                                                                  text  \\\n",
       "date_time                                                                \n",
       "2017-09-30 08:02:01   [steps, to, better, code, author, @isaacandsuch]   \n",
       "2017-09-29 09:14:42  [i, just, published, understanding, your, ener...   \n",
       "2017-09-29 04:26:45  [yes, i, am, making, sure, adequate, cat, phot...   \n",
       "2017-09-28 16:28:28  [coding, thinking, in, several, dimensions, au...   \n",
       "2017-09-28 08:21:39  [@pewdiepie, kimi, na, wa, used, heavily, japa...   \n",
       "\n",
       "                     favorite_count  \n",
       "date_time                            \n",
       "2017-09-30 08:02:01              62  \n",
       "2017-09-29 09:14:42               1  \n",
       "2017-09-29 04:26:45              70  \n",
       "2017-09-28 16:28:28              61  \n",
       "2017-09-28 08:21:39             142  "
      ]
     },
     "execution_count": 127,
     "metadata": {},
     "output_type": "execute_result"
    }
   ],
   "source": [
    "df = df[df['lang'] == 'en'].drop('lang', axis=1)\n",
    "df.head()"
   ]
  },
  {
   "cell_type": "markdown",
   "metadata": {},
   "source": [
    "## Cleaning the tweets\n",
    "This work was already done in the [`collecting-data.ipynb`]() notebook, and it is summed up here:\n",
    "- hastags and referring people are kept as real words (characters `#` and `@`)\n",
    "- punctuation removed, stopwords removed as well (and portuguese and english have different stopwords!)\n",
    "- urls are removed"
   ]
  },
  {
   "cell_type": "code",
   "execution_count": 73,
   "metadata": {},
   "outputs": [],
   "source": [
    "from nltk.tokenize.casual import TweetTokenizer\n",
    "from nltk.corpus import stopwords\n",
    "import string"
   ]
  },
  {
   "cell_type": "markdown",
   "metadata": {},
   "source": [
    "### A note on stopwords\n",
    "One of the following steps is to remove \"stop\" words, words that are often auxiliary in constructing meaning, but lack content. You may itch to know what these words can be."
   ]
  },
  {
   "cell_type": "code",
   "execution_count": 130,
   "metadata": {},
   "outputs": [
    {
     "name": "stdout",
     "output_type": "stream",
     "text": [
      "['i', 'me', 'my', 'myself', 'we', 'our', 'ours', 'ourselves', 'you', \"you're\"]\n",
      "['de', 'a', 'o', 'que', 'e', 'do', 'da', 'em', 'um', 'para']\n",
      "['aber', 'alle', 'allem', 'allen', 'aller', 'alles', 'als', 'also', 'am', 'an']\n"
     ]
    }
   ],
   "source": [
    "print(stopwords.words('english')[:10])\n",
    "print(stopwords.words('portuguese')[:10])\n",
    "print(stopwords.words('german')[:10])"
   ]
  },
  {
   "cell_type": "markdown",
   "metadata": {},
   "source": [
    "### Text-cleaning function definition"
   ]
  },
  {
   "cell_type": "code",
   "execution_count": 116,
   "metadata": {},
   "outputs": [],
   "source": [
    "def clean_tweet(tweet, join=False):\n",
    "    # word tokenizer\n",
    "    tokenizer = TweetTokenizer(strip_handles=False)\n",
    "    tokens = tokenizer.tokenize(tweet)\n",
    "    # lower case\n",
    "    tokens = [word.lower() for word in tokens]\n",
    "    # remove non-alphabetic tokens, such as punctuation, urls.\n",
    "    # a couple of 'or's are there to include further content such as @rustlang or #haskell\n",
    "    tokens = [token for token in tokens if token.isalpha() or '#' in token or '@' in token]\n",
    "    # however the hash # may be part of a url instead...\n",
    "    # remove stop words\n",
    "    tokens = [token for token in tokens if token not in stopwords.words('english')]\n",
    "    # return\n",
    "    if join:\n",
    "        return ' '.join(tokens)\n",
    "    return tokens"
   ]
  },
  {
   "cell_type": "markdown",
   "metadata": {},
   "source": [
    "And here are a couple of examples of this cleaning function"
   ]
  },
  {
   "cell_type": "code",
   "execution_count": 119,
   "metadata": {},
   "outputs": [
    {
     "name": "stdout",
     "output_type": "stream",
     "text": [
      "-----------------------\n",
      "Steps to better code\n",
      "{ author: @isaacandsuch }\n",
      "https://t.co/lHL37fyC8e\n",
      "::> ['steps', 'to', 'better', 'code', 'author', '@isaacandsuch']\n",
      "-----------------------\n",
      "We're are havin' a ball with @haskell_lang #lambdapt #meetup https://t.co/h4wWYx7PBn\n",
      "::> ['are', 'havin', 'ball', 'with', '@haskell_lang', '#lambdapt', '#meetup']\n"
     ]
    }
   ],
   "source": [
    "def print_cleaning_example(instance_index):    \n",
    "    print('-----------------------')\n",
    "    print(df['text'][instance_index])\n",
    "    print('::>', clean_tweet(df['text'][instance_index]))\n",
    "print_cleaning_example(0)\n",
    "print_cleaning_example(24)"
   ]
  },
  {
   "cell_type": "markdown",
   "metadata": {},
   "source": [
    "Did I mention I like coding? Anyways, the dataframe is now rewritten as:"
   ]
  },
  {
   "cell_type": "code",
   "execution_count": 125,
   "metadata": {},
   "outputs": [],
   "source": [
    "df['text'] = df['text'].apply(clean_tweet)"
   ]
  },
  {
   "cell_type": "code",
   "execution_count": 129,
   "metadata": {},
   "outputs": [
    {
     "data": {
      "text/html": [
       "<div>\n",
       "<style scoped>\n",
       "    .dataframe tbody tr th:only-of-type {\n",
       "        vertical-align: middle;\n",
       "    }\n",
       "\n",
       "    .dataframe tbody tr th {\n",
       "        vertical-align: top;\n",
       "    }\n",
       "\n",
       "    .dataframe thead th {\n",
       "        text-align: right;\n",
       "    }\n",
       "</style>\n",
       "<table border=\"1\" class=\"dataframe\">\n",
       "  <thead>\n",
       "    <tr style=\"text-align: right;\">\n",
       "      <th></th>\n",
       "      <th>screen_name</th>\n",
       "      <th>text</th>\n",
       "      <th>favorite_count</th>\n",
       "    </tr>\n",
       "    <tr>\n",
       "      <th>date_time</th>\n",
       "      <th></th>\n",
       "      <th></th>\n",
       "      <th></th>\n",
       "    </tr>\n",
       "  </thead>\n",
       "  <tbody>\n",
       "    <tr>\n",
       "      <th>2017-09-30 08:02:01</th>\n",
       "      <td>ThePracticalDev</td>\n",
       "      <td>[steps, to, better, code, author, @isaacandsuch]</td>\n",
       "      <td>62</td>\n",
       "    </tr>\n",
       "    <tr>\n",
       "      <th>2017-09-29 09:14:42</th>\n",
       "      <td>d_vf</td>\n",
       "      <td>[i, just, published, understanding, your, ener...</td>\n",
       "      <td>1</td>\n",
       "    </tr>\n",
       "    <tr>\n",
       "      <th>2017-09-29 04:26:45</th>\n",
       "      <td>sehurlburt</td>\n",
       "      <td>[yes, i, am, making, sure, adequate, cat, phot...</td>\n",
       "      <td>70</td>\n",
       "    </tr>\n",
       "    <tr>\n",
       "      <th>2017-09-28 16:28:28</th>\n",
       "      <td>ThePracticalDev</td>\n",
       "      <td>[coding, thinking, in, several, dimensions, au...</td>\n",
       "      <td>61</td>\n",
       "    </tr>\n",
       "    <tr>\n",
       "      <th>2017-09-28 08:21:39</th>\n",
       "      <td>azool_97</td>\n",
       "      <td>[@pewdiepie, kimi, na, wa, used, heavily, japa...</td>\n",
       "      <td>142</td>\n",
       "    </tr>\n",
       "  </tbody>\n",
       "</table>\n",
       "</div>"
      ],
      "text/plain": [
       "                         screen_name  \\\n",
       "date_time                              \n",
       "2017-09-30 08:02:01  ThePracticalDev   \n",
       "2017-09-29 09:14:42             d_vf   \n",
       "2017-09-29 04:26:45       sehurlburt   \n",
       "2017-09-28 16:28:28  ThePracticalDev   \n",
       "2017-09-28 08:21:39         azool_97   \n",
       "\n",
       "                                                                  text  \\\n",
       "date_time                                                                \n",
       "2017-09-30 08:02:01   [steps, to, better, code, author, @isaacandsuch]   \n",
       "2017-09-29 09:14:42  [i, just, published, understanding, your, ener...   \n",
       "2017-09-29 04:26:45  [yes, i, am, making, sure, adequate, cat, phot...   \n",
       "2017-09-28 16:28:28  [coding, thinking, in, several, dimensions, au...   \n",
       "2017-09-28 08:21:39  [@pewdiepie, kimi, na, wa, used, heavily, japa...   \n",
       "\n",
       "                     favorite_count  \n",
       "date_time                            \n",
       "2017-09-30 08:02:01              62  \n",
       "2017-09-29 09:14:42               1  \n",
       "2017-09-29 04:26:45              70  \n",
       "2017-09-28 16:28:28              61  \n",
       "2017-09-28 08:21:39             142  "
      ]
     },
     "execution_count": 129,
     "metadata": {},
     "output_type": "execute_result"
    }
   ],
   "source": [
    "df.head()"
   ]
  },
  {
   "cell_type": "markdown",
   "metadata": {},
   "source": [
    "## TF-IDF terms\n",
    "\n",
    "Machine learning models understand only one thing: numbers. So, the step above already converts the cleaned tweet into a list of words. This is because we are preparing these words for model training. There are many possible conversions: bag-of-words; one-hot encoding... But for the purposes of clustering, [tf-idf](https://en.wikipedia.org/wiki/Tf%E2%80%93idf) is the chosen approach here."
   ]
  }
 ],
 "metadata": {
  "kernelspec": {
   "display_name": "Python 3",
   "language": "python",
   "name": "python3"
  },
  "language_info": {
   "codemirror_mode": {
    "name": "ipython",
    "version": 3
   },
   "file_extension": ".py",
   "mimetype": "text/x-python",
   "name": "python",
   "nbconvert_exporter": "python",
   "pygments_lexer": "ipython3",
   "version": "3.6.4"
  }
 },
 "nbformat": 4,
 "nbformat_minor": 2
}
